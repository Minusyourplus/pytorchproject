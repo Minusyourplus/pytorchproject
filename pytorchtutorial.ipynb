{
 "cells": [
  {
   "cell_type": "code",
   "execution_count": 3,
   "id": "72b63340",
   "metadata": {},
   "outputs": [],
   "source": [
    "import torch\n",
    "import numpy as np"
   ]
  },
  {
   "cell_type": "code",
   "execution_count": 4,
   "id": "3317d1d9",
   "metadata": {},
   "outputs": [
    {
     "data": {
      "text/plain": [
       "[[1, 2, 3, 4, 5], [6, 7, 8, 9, 10]]"
      ]
     },
     "execution_count": 4,
     "metadata": {},
     "output_type": "execute_result"
    }
   ],
   "source": [
    "my_list = [[1,2,3,4,5], [6,7,8,9,10]]\n",
    "my_list"
   ]
  },
  {
   "cell_type": "code",
   "execution_count": 5,
   "id": "6bd4de8d",
   "metadata": {},
   "outputs": [
    {
     "data": {
      "text/plain": [
       "array([[0.18702086, 0.50636826, 0.90226063, 0.34586043],\n",
       "       [0.50573353, 0.86595791, 0.26876337, 0.92839711],\n",
       "       [0.27237933, 0.24690209, 0.43399089, 0.66420269]])"
      ]
     },
     "execution_count": 5,
     "metadata": {},
     "output_type": "execute_result"
    }
   ],
   "source": [
    "np1 = np.random.rand(3,4)\n",
    "np1"
   ]
  },
  {
   "cell_type": "code",
   "execution_count": 6,
   "id": "bdcd7376",
   "metadata": {},
   "outputs": [
    {
     "data": {
      "text/plain": [
       "dtype('float64')"
      ]
     },
     "execution_count": 6,
     "metadata": {},
     "output_type": "execute_result"
    }
   ],
   "source": [
    "np1.dtype"
   ]
  },
  {
   "cell_type": "code",
   "execution_count": 7,
   "id": "bff74209",
   "metadata": {},
   "outputs": [
    {
     "data": {
      "text/plain": [
       "tensor([[-1.2406, -0.2080,  1.4463,  0.8297],\n",
       "        [-0.4742,  0.0252, -0.3327, -0.5637],\n",
       "        [-1.9765, -1.6530, -0.1386,  0.0894]])"
      ]
     },
     "execution_count": 7,
     "metadata": {},
     "output_type": "execute_result"
    }
   ],
   "source": [
    "tensor_2d = torch.randn(3,4)\n",
    "tensor_2d"
   ]
  },
  {
   "cell_type": "code",
   "execution_count": 8,
   "id": "17ad6a35",
   "metadata": {},
   "outputs": [
    {
     "data": {
      "text/plain": [
       "tensor([[[0., 0., 0., 0.],\n",
       "         [0., 0., 0., 0.],\n",
       "         [0., 0., 0., 0.]],\n",
       "\n",
       "        [[0., 0., 0., 0.],\n",
       "         [0., 0., 0., 0.],\n",
       "         [0., 0., 0., 0.]]])"
      ]
     },
     "execution_count": 8,
     "metadata": {},
     "output_type": "execute_result"
    }
   ],
   "source": [
    "tensor_3d = torch.zeros(2,3,4)\n",
    "tensor_3d"
   ]
  },
  {
   "cell_type": "code",
   "execution_count": 10,
   "id": "694b4b18",
   "metadata": {},
   "outputs": [
    {
     "data": {
      "text/plain": [
       "tensor([[0.1870, 0.5064, 0.9023, 0.3459],\n",
       "        [0.5057, 0.8660, 0.2688, 0.9284],\n",
       "        [0.2724, 0.2469, 0.4340, 0.6642]], dtype=torch.float64)"
      ]
     },
     "execution_count": 10,
     "metadata": {},
     "output_type": "execute_result"
    }
   ],
   "source": [
    "my_tensor = torch.tensor(np1)\n",
    "my_tensor"
   ]
  },
  {
   "cell_type": "code",
   "execution_count": 12,
   "id": "8ea8459d",
   "metadata": {},
   "outputs": [
    {
     "data": {
      "text/plain": [
       "tensor([0, 1, 2, 3, 4, 5, 6, 7, 8, 9])"
      ]
     },
     "execution_count": 12,
     "metadata": {},
     "output_type": "execute_result"
    }
   ],
   "source": [
    "my_torch = torch.arange(10)\n",
    "my_torch"
   ]
  },
  {
   "cell_type": "code",
   "execution_count": 13,
   "id": "118d2df4",
   "metadata": {},
   "outputs": [
    {
     "data": {
      "text/plain": [
       "tensor([[0, 1, 2, 3, 4],\n",
       "        [5, 6, 7, 8, 9]])"
      ]
     },
     "execution_count": 13,
     "metadata": {},
     "output_type": "execute_result"
    }
   ],
   "source": [
    "my_torch = my_torch.reshape(2,5)\n",
    "my_torch"
   ]
  },
  {
   "cell_type": "code",
   "execution_count": 14,
   "id": "122f77b4",
   "metadata": {},
   "outputs": [
    {
     "data": {
      "text/plain": [
       "tensor([0, 1, 2, 3, 4, 5, 6, 7, 8, 9])"
      ]
     },
     "execution_count": 14,
     "metadata": {},
     "output_type": "execute_result"
    }
   ],
   "source": [
    "my_torch2 = torch.arange(10)\n",
    "my_torch2"
   ]
  },
  {
   "cell_type": "code",
   "execution_count": 15,
   "id": "88898f04",
   "metadata": {},
   "outputs": [
    {
     "data": {
      "text/plain": [
       "tensor([[0, 1, 2, 3, 4],\n",
       "        [5, 6, 7, 8, 9]])"
      ]
     },
     "execution_count": 15,
     "metadata": {},
     "output_type": "execute_result"
    }
   ],
   "source": [
    "my_torch2 = my_torch2.reshape(2,-1)\n",
    "my_torch2"
   ]
  },
  {
   "cell_type": "code",
   "execution_count": 17,
   "id": "f0c3e12d",
   "metadata": {},
   "outputs": [
    {
     "data": {
      "text/plain": [
       "tensor([0, 1, 2, 3, 4, 5, 6, 7, 8, 9])"
      ]
     },
     "execution_count": 17,
     "metadata": {},
     "output_type": "execute_result"
    }
   ],
   "source": [
    "my_torch3 = torch.arange(10)\n",
    "my_torch3"
   ]
  },
  {
   "cell_type": "code",
   "execution_count": 20,
   "id": "9dd65289",
   "metadata": {},
   "outputs": [
    {
     "data": {
      "text/plain": [
       "tensor([[0, 1, 2, 3, 4],\n",
       "        [5, 6, 7, 8, 9]])"
      ]
     },
     "execution_count": 20,
     "metadata": {},
     "output_type": "execute_result"
    }
   ],
   "source": [
    "my_torch3 = my_torch3.view(2,5)\n",
    "my_torch3"
   ]
  },
  {
   "cell_type": "code",
   "execution_count": null,
   "id": "14ec2ae4",
   "metadata": {},
   "outputs": [],
   "source": []
  }
 ],
 "metadata": {
  "kernelspec": {
   "display_name": "Python 3 (ipykernel)",
   "language": "python",
   "name": "python3"
  },
  "language_info": {
   "codemirror_mode": {
    "name": "ipython",
    "version": 3
   },
   "file_extension": ".py",
   "mimetype": "text/x-python",
   "name": "python",
   "nbconvert_exporter": "python",
   "pygments_lexer": "ipython3",
   "version": "3.11.4"
  }
 },
 "nbformat": 4,
 "nbformat_minor": 5
}
